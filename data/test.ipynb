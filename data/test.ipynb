{
 "cells": [
  {
   "cell_type": "markdown",
   "metadata": {},
   "source": [
    "# Synthesize data from TREC-DL\n",
    "\n",
    "Process:\n",
    "1. Get topics and qrels in Pyserini format\n",
    "2. Retrieve top 100 documents using BM25 to generate rank results \n",
    "3. Evaluate nDCG@10 performance\n",
    "4. Convert to Huggingface format and upload to Huggingface Hub"
   ]
  },
  {
   "cell_type": "markdown",
   "metadata": {},
   "source": [
    "### step 123"
   ]
  },
  {
   "cell_type": "code",
   "execution_count": 32,
   "metadata": {},
   "outputs": [],
   "source": [
    "import sys\n",
    "sys.path.append('/home/mila/l/le.zhang/scratch/DeepRerank')\n",
    "from pyserini.search import get_topics, get_qrels\n",
    "# from pyserini.search.lucene import LuceneSearcher\n",
    "from run_evaluation import THE_TOPICS, THE_INDEX\n",
    "from trec_eval import EvalFunction\n",
    "data = 'dl21'\n",
    "\n",
    "# searcher = LuceneSearcher.from_prebuilt_index(THE_INDEX[data])\n",
    "DLV2 = ['dl20', 'dl21', 'dl22', 'dl23']\n",
    "topics = get_topics(THE_TOPICS[data] if data not in dl else data)\n",
    "qrels = get_qrels(THE_TOPICS[data])\n",
    "\n",
    "\n"
   ]
  },
  {
   "cell_type": "code",
   "execution_count": 27,
   "metadata": {},
   "outputs": [],
   "source": [
    "# 将dl21, dl22, dl23的qels txt 拼接在一起\n",
    "import json\n",
    "qrels = {}\n",
    "for data in ['dl21', 'dl22', 'dl23']:\n",
    "    qrels_file = get_qrels_file(THE_TOPICS[data])\n",
    "    with open(qrels_file, 'r') as f:\n",
    "        for line in f:\n",
    "            qid, _, docid, rel = line.strip().split()\n",
    "            if qid not in qrels:\n",
    "                qrels[qid] = {}\n",
    "            qrels[qid][docid] = int(rel)\n",
    "           \n",
    "# Save the combined qrels to a file\n",
    "output_file = '/home/mila/l/le.zhang/scratch/DeepRerank/data/combined_qrels.txt'\n",
    "with open(output_file, 'w') as f:\n",
    "    for qid in sorted(qrels.keys()):\n",
    "        for docid, rel in qrels[qid].items():\n",
    "            f.write(f\"{qid} 0 {docid} {rel}\\n\")\n",
    "           \n",
    "# sa\n"
   ]
  },
  {
   "cell_type": "code",
   "execution_count": 14,
   "metadata": {},
   "outputs": [
    {
     "name": "stdout",
     "output_type": "stream",
     "text": [
      "\n",
      "Evaluating dl21:, len(topics): 477\n",
      "{'NDCG@1': 0.45283, 'NDCG@5': 0.44937, 'NDCG@10': 0.44583, 'MAP@1': 0.00984, 'MAP@5': 0.03842, 'MAP@10': 0.06709, 'Recall@1': 0.00984, 'Recall@5': 0.04129, 'Recall@10': 0.07564}\n",
      "\n",
      "Evaluating dl22:, len(topics): 500\n",
      "{'NDCG@1': 0.29167, 'NDCG@5': 0.28879, 'NDCG@10': 0.26917, 'MAP@1': 0.00352, 'MAP@5': 0.01282, 'MAP@10': 0.02194, 'Recall@1': 0.00352, 'Recall@5': 0.01596, 'Recall@10': 0.0287}\n",
      "\n",
      "Evaluating dl23:, len(topics): 700\n",
      "{'NDCG@1': 0.32724, 'NDCG@5': 0.271, 'NDCG@10': 0.26242, 'MAP@1': 0.01349, 'MAP@5': 0.03043, 'MAP@10': 0.04414, 'Recall@1': 0.01349, 'Recall@5': 0.03519, 'Recall@10': 0.05851}\n"
     ]
    }
   ],
   "source": [
    "for data in ['dl21', 'dl22', 'dl23']:\n",
    "    topics = get_topics(THE_TOPICS[data] if data not in dl else data)\n",
    "    print(f\"\\nEvaluating {data}:, len(topics): {len(topics)}\")\n",
    "    EvalFunction.main(THE_TOPICS[data], f'/home/mila/l/le.zhang/scratch/DeepRerank/data/20{data[2:]}_passage_top100.txt')"
   ]
  },
  {
   "cell_type": "markdown",
   "metadata": {},
   "source": [
    "### step 4"
   ]
  },
  {
   "cell_type": "code",
   "execution_count": 31,
   "metadata": {},
   "outputs": [
    {
     "name": "stdout",
     "output_type": "stream",
     "text": [
      "len(rank_results): 53\n",
      "len(rank_results): 76\n",
      "len(rank_results): 82\n"
     ]
    }
   ],
   "source": [
    "# 读取3个top100文件，拼接在一起\n",
    "combined_rank_results = []\n",
    "for data in ['dl21', 'dl22', 'dl23']:\n",
    "    with open(f'/home/mila/l/le.zhang/scratch/DeepRerank/data/{data}_bm25_rank_results.json', 'r') as f:\n",
    "        rank_results = json.load(f)\n",
    "        print(f\"len(rank_results): {len(rank_results)}\")\n",
    "        combined_rank_results.extend(rank_results)\n",
    "        \n"
   ]
  },
  {
   "cell_type": "code",
   "execution_count": 43,
   "metadata": {},
   "outputs": [],
   "source": [
    "import copy\n",
    "import random\n",
    "replicate_rank_results = []\n",
    "replicate_times = 50\n",
    "for item in combined_rank_results:\n",
    "    for _ in range(replicate_times):\n",
    "        new_item = copy.deepcopy(item)\n",
    "        # Randomly select 20 hits from original hits list\n",
    "        new_item['hits'] = random.sample(new_item['hits'], min(20, len(new_item['hits'])))\n",
    "        replicate_rank_results.append(new_item)\n"
   ]
  },
  {
   "cell_type": "code",
   "execution_count": 44,
   "metadata": {},
   "outputs": [
    {
     "data": {
      "text/plain": [
       "10550"
      ]
     },
     "execution_count": 44,
     "metadata": {},
     "output_type": "execute_result"
    }
   ],
   "source": [
    "len(replicate_rank_results)"
   ]
  },
  {
   "cell_type": "code",
   "execution_count": 45,
   "metadata": {},
   "outputs": [
    {
     "name": "stdout",
     "output_type": "stream",
     "text": [
      "Dataset size: 10550\n",
      "Dataset({\n",
      "    features: ['query', 'hits'],\n",
      "    num_rows: 10550\n",
      "})\n"
     ]
    },
    {
     "name": "stderr",
     "output_type": "stream",
     "text": [
      "Creating parquet from Arrow format: 100%|██████████| 11/11 [00:00<00:00, 191.71ba/s]\n",
      "Uploading the dataset shards: 100%|██████████| 1/1 [00:00<00:00,  1.74it/s]\n"
     ]
    },
    {
     "data": {
      "text/plain": [
       "CommitInfo(commit_url='https://huggingface.co/datasets/le723z/TREC-DL-TOP100/commit/30973904f974bf04f5f2e3702eb536973a0c38cc', commit_message='Upload dataset', commit_description='', oid='30973904f974bf04f5f2e3702eb536973a0c38cc', pr_url=None, repo_url=RepoUrl('https://huggingface.co/datasets/le723z/TREC-DL-TOP100', endpoint='https://huggingface.co', repo_type='dataset', repo_id='le723z/TREC-DL-TOP100'), pr_revision=None, pr_num=None)"
      ]
     },
     "execution_count": 45,
     "metadata": {},
     "output_type": "execute_result"
    }
   ],
   "source": [
    "from datasets import Dataset\n",
    "import pandas as pd\n",
    "from huggingface_hub import login\n",
    "df = pd.DataFrame(replicate_rank_results)\n",
    "dataset = Dataset.from_pandas(df)\n",
    "\n",
    "# Print dataset info\n",
    "print(f\"Dataset size: {len(dataset)}\")\n",
    "print(dataset)\n",
    "\n",
    "# Upload the dataset to Huggingface Hub\n",
    "dataset.push_to_hub(\n",
    "    \"le723z/TREC-DL-TOP100\",  # Replace with your desired repository name\n",
    "    private=False,  # Set to True if you want a private dataset\n",
    ")"
   ]
  },
  {
   "cell_type": "code",
   "execution_count": 8,
   "metadata": {},
   "outputs": [
    {
     "name": "stderr",
     "output_type": "stream",
     "text": [
      "Map: 100%|██████████| 10550/10550 [00:03<00:00, 2644.50 examples/s]\n",
      "Creating parquet from Arrow format: 100%|██████████| 11/11 [00:00<00:00, 28.79ba/s]\n"
     ]
    }
   ],
   "source": [
    "\"\"\"\n",
    "Preprocess dataset for countdown task - given a target number and N numbers, generate equations to reach target\n",
    "\"\"\"\n",
    "\n",
    "import re\n",
    "import os\n",
    "from datasets import Dataset, load_dataset\n",
    "from random import randint, seed, choice\n",
    "from typing import List, Tuple\n",
    "from tqdm import tqdm\n",
    "from hdfs_io import copy, makedirs\n",
    "import argparse\n",
    "\n",
    "\n",
    "def make_prefix(dp, template_type):\n",
    "    query = dp['query']\n",
    "    hits = dp['hits']\n",
    "    num_hits = len(hits)\n",
    "    # NOTE: also need to change reward_score/countdown.py\n",
    "    if template_type == 'base':\n",
    "        raise NotImplementedError\n",
    "    elif template_type == 'qwen-instruct':\n",
    "        \"\"\"This works for Qwen Instruct Models\"\"\"\n",
    "        # prefix = (\n",
    "        #     f\"<|im_start|>system\\n\"\n",
    "        #     f\"You are DeepRerank, an intelligent assistant that can rank passages based on their relevancy to the search query. \"\n",
    "        #     f\"You first thinks about the reasoning process in the mind and then provides the user with the answer.\"\n",
    "        #     f\"<|im_end|>\\n\"\n",
    "        #     f\"<|im_start|>user\\n\"\n",
    "        #     f\"I will provide you with passages, each indicated by number identifier []. Rank the passages based on their relevance to the search query.\\n\"\n",
    "        #     f\"Show your work in <think> </think> tags. And return the final answer in <answer> </answer> tags. \\n\"\n",
    "        #     f\"Sarch Query: {query}. \\nRank the {num_hits} passages above based on their relevance to the search query.\"\n",
    "        #     f\"The passages should be listed in descending order using identifiers. The most relevant passages should be listed first. The output format should be <answer> [] > [] </answer>, e.g., <answer> [1] > [2] </answer>.\"\n",
    "        #     f\"<|im_end|>\\n\"\n",
    "        #     f\"<|im_start|>assistant\\n\"\n",
    "        #     f\"Okay, please provide the passages.\\n\"\n",
    "        #     f\"<|im_end|>\\n\"\n",
    "        # )\n",
    "\n",
    "        prefix = (\n",
    "            f\"I will provide you with passages, each indicated by number identifier []. Rank the passages based on their relevance to the search query.\"\n",
    "            f\"Show your work in <think> </think> tags. And return the final answer in <answer> </answer> tags. \\n\"\n",
    "            f\"Search Query: {query}. \\nRank the {num_hits} passages above based on their relevance to the search query.\"\n",
    "            f\"The passages should be listed in descending order using identifiers. The most relevant passages should be listed first. The output format should be <answer> [] > [] </answer>, e.g., <answer> [1] > [2] </answer>.\"\n",
    "        )\n",
    "      \n",
    "        prefix += f\"<|im_start|>assistant\\n  Let me rank the passages. <think> \"\n",
    "        return prefix\n",
    "\n",
    "\n",
    "\n",
    "raw_dataset = load_dataset('le723z/TREC-DL-TOP100', split='train')\n",
    "\n",
    "def make_map_fn(split):\n",
    "    def process_fn(example, idx):\n",
    "        question = make_prefix(example, template_type=\"qwen-instruct\")\n",
    "        messages = [\n",
    "                {\"role\": \"system\", \"content\": \"You are DeepRerank, an intelligent assistant that can rank passages based on their relevancy to the search query. You first thinks about the reasoning process in the mind and then provides the user with the answer.\"},\n",
    "                {\"role\": \"user\",\"content\": question},\n",
    "                {\"role\": \"assistant\", \"content\": \"Okay, please provide the passages.\"}\n",
    "            ]\n",
    "        rank = 0\n",
    "        for hit in example['hits']:\n",
    "            content = hit['content']\n",
    "            content = content.replace('Title: Content: ', '')\n",
    "            content = content.strip()\n",
    "            content = ' '.join(content.split()[:int(300)]) # max token fea each passage is 300\n",
    "            messages.append({\"role\": \"user\", \"content\": f\"[{rank}] {content}\"})\n",
    "            messages.append({\"role\": \"assistant\", \"content\": f\"Received passage [{rank}].\"})\n",
    "            rank += 1\n",
    "        messages.append({\"role\": \"user\", \"content\": f\"Please analyze and rank the passages based on their relevance to the search query. First explain your reasoning within <think> </think> tags, then provide the passage IDs in descending order of relevance within <answer> </answer> tags.\"})\n",
    "        data = {\n",
    "            \"data_source\": \"TREC-DL-TOP100\",\n",
    "            \"prompt\": messages,\n",
    "            \"ability\": \"rerank\",\n",
    "            \"reward_model\": {\n",
    "                \"style\": \"rule\",\n",
    "                \"ground_truth\": \"\"\n",
    "            },\n",
    "            \"extra_info\": {\n",
    "                'split': split,\n",
    "                'index': idx,\n",
    "            }\n",
    "        }\n",
    "        return data\n",
    "    return process_fn\n",
    "\n",
    "train_dataset = raw_dataset.map(function=make_map_fn('train'), with_indices=True)\n",
    "\n",
    "local_dir = '/home/mila/l/le.zhang/scratch/DeepRerank/data'\n",
    "hdfs_dir = None\n",
    "\n",
    "train_dataset.to_parquet(os.path.join(local_dir, 'train.parquet'))\n",
    "\n",
    "if hdfs_dir is not None:\n",
    "    makedirs(hdfs_dir)\n",
    "    copy(src=local_dir, dst=hdfs_dir) "
   ]
  },
  {
   "cell_type": "code",
   "execution_count": 9,
   "metadata": {},
   "outputs": [
    {
     "data": {
      "text/plain": [
       "[{'content': 'You are DeepRerank, an intelligent assistant that can rank passages based on their relevancy to the search query. You first thinks about the reasoning process in the mind and then provides the user with the answer.',\n",
       "  'role': 'system'},\n",
       " {'content': 'I will provide you with passages, each indicated by number identifier []. Rank the passages based on their relevance to the search query.Show your work in <think> </think> tags. And return the final answer in <answer> </answer> tags. \\nSearch Query: what does prenatal care include. \\nRank the 20 passages above based on their relevance to the search query.The passages should be listed in descending order using identifiers. The most relevant passages should be listed first. The output format should be <answer> [] > [] </answer>, e.g., <answer> [1] > [2] </answer>.<|im_start|>assistant\\n  Let me rank the passages. <think> ',\n",
       "  'role': 'user'},\n",
       " {'content': 'Okay, please provide the passages.', 'role': 'assistant'},\n",
       " {'content': '[0] determines they are clinically necessary. • Delivery of one or more than one baby, including prenatal and postnatal medical care furnished by a physician or nurse midwife. Your benefits for prenatal and postnatal medical care by a physician or nurse midwife are included in the payment for the delivery.',\n",
       "  'role': 'user'},\n",
       " {'content': 'Received passage [0].', 'role': 'assistant'},\n",
       " {'content': '[1] The earlier you get prenatal care, the better your chances are for a healthy pregnancy and baby. What may happen at my first prenatal care visit? At your first prenatal care visit, your health care professional will ask you many questions. You will be asked the date of the first day of your last menstrual period.',\n",
       "  'role': 'user'},\n",
       " {'content': 'Received passage [1].', 'role': 'assistant'},\n",
       " {'content': '[2] Prenatal care is important for the health of both mother and baby. Common prenatal tests include ultrasound, amniocentesis, screening for group B strep and chronic villus sampling. Prenatal care also helps detect health conditions related to pregnancy, such as preeclampsia and gestational diabetes.',\n",
       "  'role': 'user'},\n",
       " {'content': 'Received passage [2].', 'role': 'assistant'},\n",
       " {'content': '[3] Medicaid coverage for prenatal care provides another opportunity to illustrate the four pathways’ differences and how each state determines what services to include. [1] Right away, we know that the emergency pathway will not pay for prenatal care because preventive services are non-urgent by definition.',\n",
       "  'role': 'user'},\n",
       " {'content': 'Received passage [3].', 'role': 'assistant'},\n",
       " {'content': '[4] Prenatal Screening for Down Syndrome. There are several options for Down syndrome prenatal screening. These include: A blood test and an ultrasound test during the first trimester of pregnancy. This is the most accepted approach for screening during the first trimester. A blood test enables a health care provider to check for \"markers,\" such as certain proteins, in the mother\\'s blood that suggest an increased likelihood of Down syndrome. 2 Then the health care provider does an ultrasound test, which uses high-frequency sound waves to create images.',\n",
       "  'role': 'user'},\n",
       " {'content': 'Received passage [4].', 'role': 'assistant'},\n",
       " {'content': '[5] It does appear that fewer family physicians are taking care of pregnant women. According to a study cited in the Graham Center report, prenatal care by family physicians declined in all geographic regions of the U.S. between 1980 and 1999, from 17.3 percent of all prenatal visits to 10.2 percent. 3.',\n",
       "  'role': 'user'},\n",
       " {'content': 'Received passage [5].', 'role': 'assistant'},\n",
       " {'content': '[6] Obstetrics & Gynecology. OB/GYN services at Mass General Waltham include routine and subspecialty gynecologic care, prenatal obstetrical care including ultrasounds and prenatal diagnostic services, pre- and postoperative care and treatments for urogynecologic issues. Orthopaedic Outpatient Clinics.',\n",
       "  'role': 'user'},\n",
       " {'content': 'Received passage [6].', 'role': 'assistant'},\n",
       " {'content': '[7] However, PUBS cannot be performed until later in the pregnancy, during the 18th to 22nd week. 5. Prenatal diagnostic testing does involve some risk to the mother and fetus, including a slight risk of miscarriage. 6, 7, 8, 9 If you and your family are considering prenatal diagnostic testing for Down syndrome, discuss all the risks and benefits with your health care provider.',\n",
       "  'role': 'user'},\n",
       " {'content': 'Received passage [7].', 'role': 'assistant'},\n",
       " {'content': '[8] Maternity and Newborn Care. This includes all maternity, delivery, and newborn care, although prenatal checkups are generally covered under preventive care (described above) and may be covered with no cost-sharing for the expectant mother. According to HRSA, prenatal care falls under the category of well-woman care.',\n",
       "  'role': 'user'},\n",
       " {'content': 'Received passage [8].', 'role': 'assistant'},\n",
       " {'content': '[9] What makes us unique is our integrated model of health care delivery. We are an integrated health delivery system, which means that we provide and coordinate the entire scope of care for our members, including: preventive care. well-baby and prenatal care. immunizations.',\n",
       "  'role': 'user'},\n",
       " {'content': 'Received passage [9].', 'role': 'assistant'},\n",
       " {'content': \"[10] What an MFM Doctor Does. An MFM doctor: Gives regular prenatal care for women with high-risk pregnancies. Helps manage the mother's existing health problems, such as diabetes and high blood pressure. Cares for women who develop complications during pregnancy or childbirth.\",\n",
       "  'role': 'user'},\n",
       " {'content': 'Received passage [10].', 'role': 'assistant'},\n",
       " {'content': '[11] Trends in prenatal care utilization are commonly collected using the prenatal care record. Critical data include EGA at the initiation of care and number of visits. The prenatal care record serves to document data that are commonly used as indicators of quality and adequacy of care.',\n",
       "  'role': 'user'},\n",
       " {'content': 'Received passage [11].', 'role': 'assistant'},\n",
       " {'content': '[12] How Much Does Prenatal Care Cost? Prenatal care involves a series of doctor or midwife visits throughout the pregnancy to check the health of the patient and her fetus and make sure the pregnancy is progressing normally. Prenatal care allows a health professional to spot common problems with the potential to become dangerous if left untreated. Prenatal visits are recommended every month during the first six months of pregnancy; every two weeks during months seven and eight; and every week during month nine.',\n",
       "  'role': 'user'},\n",
       " {'content': 'Received passage [12].', 'role': 'assistant'},\n",
       " {'content': '[13] IMG Src: uticaparkclinic.com. Once you find out that you are pregnant, you should schedule a visit to your health care provider to begin prenatal care. Prenatal visits to your health care include a physical exam, weight checks, and urine sampling. It also includes a blood test and imaging test or ultrasound exams.',\n",
       "  'role': 'user'},\n",
       " {'content': 'Received passage [13].', 'role': 'assistant'},\n",
       " {'content': \"[14] Once you become pregnant, stop taking Prenatal Vitamins with DHEA and switch to a prenatal vitamin product that does not contain DHEA, like our Prenatal Vitamins. WHAT'S IN THE BOX. One box contains a 12-week supply in a safety-sealed plastic bottle. WHAT TO KNOW.\",\n",
       "  'role': 'user'},\n",
       " {'content': 'Received passage [14].', 'role': 'assistant'},\n",
       " {'content': '[15] What is a prenatal visit? Prenatal care is the medical care you receive during pregnancy. Prenatal care visits start early on in your pregnancy and continue regularly until you deliver the baby. They typically include a physical exam, a weight check, and various tests.',\n",
       "  'role': 'user'},\n",
       " {'content': 'Received passage [15].', 'role': 'assistant'},\n",
       " {'content': '[16] Prenatal Care. Women who suspect they may be pregnant should schedule a visit to their health care provider to begin prenatal care. Prenatal visits to a health care provider usually include a physical exam, weight checks, and providing a urine sample.',\n",
       "  'role': 'user'},\n",
       " {'content': 'Received passage [16].', 'role': 'assistant'},\n",
       " {'content': '[17] How Much Does Prenatal Care Cost? Prenatal care involves a series of doctor or midwife visits throughout the pregnancy to check the health of the patient and her fetus and make sure the pregnancy is progressing normally. Prenatal care allows a health professional to spot common problems with the potential to become dangerous if left untreated. Prenatal visits are recommended every month during the first six months of pregnancy; every two weeks during months seven and eight; and every week during month nine.',\n",
       "  'role': 'user'},\n",
       " {'content': 'Received passage [17].', 'role': 'assistant'},\n",
       " {'content': '[18] However, PUBS cannot be performed until later in the pregnancy, during the 18th to 22nd week. 5. Prenatal diagnostic testing does involve some risk to the mother and fetus, including a slight risk of miscarriage. 6, 7, 8, 9 If you and your family are considering prenatal diagnostic testing for Down syndrome, discuss all the risks and benefits with your health care provider.',\n",
       "  'role': 'user'},\n",
       " {'content': 'Received passage [18].', 'role': 'assistant'},\n",
       " {'content': '[19] How much does prenatal care cost? On average, the total prenatal visits will cost anywhere from $1,700 to $3,000 for the entire nine months during the pregnancy. This is without insurance and doesn’t include the baby delivery.',\n",
       "  'role': 'user'},\n",
       " {'content': 'Received passage [19].', 'role': 'assistant'},\n",
       " {'content': 'Please analyze and rank the passages based on their relevance to the search query. First explain your reasoning within <think> </think> tags, then provide the passage IDs in descending order of relevance within <answer> </answer> tags.',\n",
       "  'role': 'user'}]"
      ]
     },
     "execution_count": 9,
     "metadata": {},
     "output_type": "execute_result"
    }
   ],
   "source": [
    "train_dataset[0]['prompt']"
   ]
  },
  {
   "cell_type": "code",
   "execution_count": 5,
   "metadata": {},
   "outputs": [],
   "source": [
    "from transformers import AutoModelForCausalLM, AutoTokenizer\n",
    "\n",
    "model_name = \"Qwen/Qwen2.5-7B-Instruct\"\n",
    "tokenizer = AutoTokenizer.from_pretrained(model_name)"
   ]
  },
  {
   "cell_type": "code",
   "execution_count": 10,
   "metadata": {},
   "outputs": [
    {
     "name": "stderr",
     "output_type": "stream",
     "text": [
      "100%|██████████| 10550/10550 [00:48<00:00, 219.10it/s]"
     ]
    },
    {
     "name": "stdout",
     "output_type": "stream",
     "text": [
      "Average length: 2018.18\n",
      "Max length: 8837\n",
      "Min length: 1598\n"
     ]
    },
    {
     "name": "stderr",
     "output_type": "stream",
     "text": [
      "\n"
     ]
    }
   ],
   "source": [
    "# 统计所有样本的token长度\n",
    "from tqdm import tqdm\n",
    "lengths = []\n",
    "for i in tqdm(range(len(train_dataset))):\n",
    "    text = tokenizer.apply_chat_template(\n",
    "        train_dataset[i]['prompt'],\n",
    "        tokenize=False,\n",
    "        add_generation_prompt=True\n",
    "    )\n",
    "    model_inputs = tokenizer(text, return_tensors=\"pt\")\n",
    "    lengths.append(len(model_inputs['input_ids'][0]))\n",
    "    \n",
    "print(f\"Average length: {sum(lengths)/len(lengths):.2f}\")\n",
    "print(f\"Max length: {max(lengths)}\")\n",
    "print(f\"Min length: {min(lengths)}\")"
   ]
  },
  {
   "cell_type": "code",
   "execution_count": 7,
   "metadata": {},
   "outputs": [
    {
     "name": "stdout",
     "output_type": "stream",
     "text": [
      "<|im_start|>system\n",
      "You are DeepRerank, an intelligent assistant that can rank passages based on their relevancy to the search query. You first thinks about the reasoning process in the mind and then provides the user with the answer.<|im_end|>\n",
      "<|im_start|>user\n",
      "I will provide you with passages, each indicated by number identifier []. Rank the passages based on their relevance to the search query.Show your work in <think> </think> tags. And return the final answer in <answer> </answer> tags. \n",
      "Search Query: collins the good to great. \n",
      "Rank the 20 passages above based on their relevance to the search query.The passages should be listed in descending order using identifiers. The most relevant passages should be listed first. The output format should be <answer> [] > [] </answer>, e.g., <answer> [1] > [2] </answer>.<|im_start|>assistant\n",
      "  Let me rank the passages. <think> <|im_end|>\n",
      "<|im_start|>assistant\n",
      "Okay, please provide the passages.<|im_end|>\n",
      "<|im_start|>user\n",
      "[0] See: http://www.chiefexecutiveblog.com/2008/01/newton-was-right-effecting-change-in.html. If you haven't done so recently, I'd recommend you read Jim Collins' book Good to Great. Here's a \"Leadership Pyramid\" offered by Collins.<|im_end|>\n",
      "<|im_start|>assistant\n",
      "Received passage [0].<|im_end|>\n",
      "<|im_start|>user\n",
      "[1] Like. “Greatness is not a function of circumstance. Greatness, it turns out, is largely a matter of conscious choice, and discipline.”. ― Jim Collins, Good to Great: Why Some Companies Make the Leap... and Others Don't.<|im_end|>\n",
      "<|im_start|>assistant\n",
      "Received passage [1].<|im_end|>\n",
      "<|im_start|>user\n",
      "[2] Best Case Study: Good to Great. Buy on Amazon Buy on Barnesandnoble.com. The findings in \"Good to Great: Why Some Companies Make the Leap and Others Don't\" are a result of Jim Collins' five year-project, which included a 21-person research team and more than 2,000 pages of interview transcripts.<|im_end|>\n",
      "<|im_start|>assistant\n",
      "Received passage [2].<|im_end|>\n",
      "<|im_start|>user\n",
      "[3] Indeed,”. ― James C. Collins, Good to Great: Why Some Companies Make the Leap... and Others Don't. 10 likes. Like. “while you can buy your way to growth, you absolutely cannot buy your way to greatness.”. ― James C. Collins, Good to Great: Why Some Companies Make the Leap... and Others Don't. 10 likes.<|im_end|>\n",
      "<|im_start|>assistant\n",
      "Received passage [3].<|im_end|>\n",
      "<|im_start|>user\n",
      "[4] Good to Great: Why Some Companies Make the Leap, & Others Don't by Jim Collins. Buy on Amazon. Can good companies, mediocre companies, or even bad companies achieve enduring greatness? That is the question Jim Collins answers in this book.<|im_end|>\n",
      "<|im_start|>assistant\n",
      "Received passage [4].<|im_end|>\n",
      "<|im_start|>user\n",
      "[5] 2005: Good to Great and the Social Sectors by James C. Collins. 2009: How the Mighty Fall: And Why Some Companies Never Give In by James C. Collins. 2011: Great By Choice by James C. Collins and Morten T. Hansen. 2019: Turning the Flywheel: A Monograph to Accompany Good to Great by James C. Collins.<|im_end|>\n",
      "<|im_start|>assistant\n",
      "Received passage [5].<|im_end|>\n",
      "<|im_start|>user\n",
      "[6] Good to Great by Jim Collins. This is a classic business book that is based on a study of some of the greatest companies created by Collins’ team of researchers. They studied companies like Pennystock Aktien, that beat their averages in the stock market, and maintained that level of success for a long period of time.<|im_end|>\n",
      "<|im_start|>assistant\n",
      "Received passage [6].<|im_end|>\n",
      "<|im_start|>user\n",
      "[7] Consequently, Collins views Good to Great as a prequel to Built to Last; applying the findings from Good to Great can help to create a great startup or an established organization, and then the findings from Built to Last can make sure the company’s legacy endures.<|im_end|>\n",
      "<|im_start|>assistant\n",
      "Received passage [7].<|im_end|>\n",
      "<|im_start|>user\n",
      "[8] But then we look to Jim Collin’s research. In Good to Great, Collins introduced the concept of Level 5 Leaders. Collins explains that these outperforming leaders are the antithesis of the celebrity CEO. Instead, Level 5 Leaders possess a powerful mix of two qualities: indomitable will, and yes, personal humility.<|im_end|>\n",
      "<|im_start|>assistant\n",
      "Received passage [8].<|im_end|>\n",
      "<|im_start|>user\n",
      "[9] Built to Last (by Going From Good to Great) In his previous bestseller Built to Last, Collins and his coauthor identified 18 lastingly great companies and studied how they constructed a durably great company from scratch.<|im_end|>\n",
      "<|im_start|>assistant\n",
      "Received passage [9].<|im_end|>\n",
      "<|im_start|>user\n",
      "[10] There are many outstanding leadership books used by individuals for inspiration and tools to advance their organization and their individual careers. One such book, “Good to Great,” by Jim Collins starts with the basic premise that “Good is the enemy of great.”.<|im_end|>\n",
      "<|im_start|>assistant\n",
      "Received passage [10].<|im_end|>\n",
      "<|im_start|>user\n",
      "[11] Good to Great Summary Good to Great Guide Shortform Introduction. In Good to Great, renowned consultant and business-school professor Jim Collins and a team of research assistants set out to learn (1) whether good companies can become great companies and (2) if they can, how.<|im_end|>\n",
      "<|im_start|>assistant\n",
      "Received passage [11].<|im_end|>\n",
      "<|im_start|>user\n",
      "[12] As identified by Jim Collins in Good to Great, the greatest aspect of a transformational leader may be this: “Those who build great companies understand that the ultimate throttle on growth for any great company is not markets, or technology, or competition, or products.<|im_end|>\n",
      "<|im_start|>assistant\n",
      "Received passage [12].<|im_end|>\n",
      "<|im_start|>user\n",
      "[13] Few people attain great lives, in large part because it is just so easy to settle for a good life.”. ― Jim Collins, Good to Great: Why Some Companies Make the Leap... and Others Don't. tags: inspirational , work-ethic. 105 likes.<|im_end|>\n",
      "<|im_start|>assistant\n",
      "Received passage [13].<|im_end|>\n",
      "<|im_start|>user\n",
      "[14] Seven characteristics of \"Good to Great\" companies. Collins identified several key characteristics in companies that made the leap from good to great. Level 5 Leadership: Leaders who are humble, but driven to do what's best for the company.<|im_end|>\n",
      "<|im_start|>assistant\n",
      "Received passage [14].<|im_end|>\n",
      "<|im_start|>user\n",
      "[15] 3. Before anything, put the right people in the right place.—. Good to Great. Level 5 leaders can make or break a company, but who you’ve got in the rest of the rocketship matters, too. In Good to Great, Collins suggests asking who you have to work with before focusing on what you’re working on.<|im_end|>\n",
      "<|im_start|>assistant\n",
      "Received passage [15].<|im_end|>\n",
      "<|im_start|>user\n",
      "[16] Like this article? Sign up for a free trial here. What is Jim Collins’s “hedgehog concept”? Why is hedgehog thinking important in business, and how can you identify your personal and professional hedgehog concepts? A hedgehog concept is a simple concept in response to the complex facts of reality. The hedgehog principle was introduced by Jim Collins in his book Good to Great, in which he argues that truly great companies are oriented around a hedgehog concept.<|im_end|>\n",
      "<|im_start|>assistant\n",
      "Received passage [16].<|im_end|>\n",
      "<|im_start|>user\n",
      "[17] Great Britain. Great Britain is the island consisting of England, Scotland, and Wales, which together with Northern Ireland makes up the United Kingdom. n-proper. (=GB) Translation English Cobuild Collins Dictionary. See also: Great Britain, great coat, a good many/a great many, go to great lengths. Collaborative Dictionary English Cobuild.<|im_end|>\n",
      "<|im_start|>assistant\n",
      "Received passage [17].<|im_end|>\n",
      "<|im_start|>user\n",
      "[18] Great companies and their comparators. Collins finds eleven examples of \"great companies\" and comparators, similar in industry-type and opportunity, but which failed to achieve the good-to-great growth shown in the great companies: Great Company. Comparator. Abbott Laboratories.<|im_end|>\n",
      "<|im_start|>assistant\n",
      "Received passage [18].<|im_end|>\n",
      "<|im_start|>user\n",
      "[19] Good to Great. , by. Jim Collins. Book Rating by Shortform Readers: 4.5 ( 71 reviews) In Good to Great, former Stanford business professor Jim Collins offers a primer on turning the average into the exceptional. Through detailed case studies of 11 companies that went from tracking the market to exceeding it by at least 3x, Collins presents the key factors that separate merely good organizations from great ones—from rare leadership to disciplined thinking to the dogged pursuit of a core mission.<|im_end|>\n",
      "<|im_start|>assistant\n",
      "Received passage [19].<|im_end|>\n",
      "<|im_start|>user\n",
      "Please analyze and rank the passages based on their relevance to the search query. First explain your reasoning, then provide the passage IDs in descending order of relevance within <answer> </answer> tags.<|im_end|>\n",
      "<|im_start|>assistant\n",
      "\n"
     ]
    }
   ],
   "source": [
    "print(text)"
   ]
  },
  {
   "cell_type": "code",
   "execution_count": null,
   "metadata": {},
   "outputs": [],
   "source": []
  }
 ],
 "metadata": {
  "kernelspec": {
   "display_name": "ir",
   "language": "python",
   "name": "python3"
  },
  "language_info": {
   "codemirror_mode": {
    "name": "ipython",
    "version": 3
   },
   "file_extension": ".py",
   "mimetype": "text/x-python",
   "name": "python",
   "nbconvert_exporter": "python",
   "pygments_lexer": "ipython3",
   "version": "3.10.16"
  }
 },
 "nbformat": 4,
 "nbformat_minor": 2
}
